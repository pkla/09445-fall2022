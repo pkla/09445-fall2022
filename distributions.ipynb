{
 "cells": [
  {
   "cell_type": "code",
   "execution_count": 1,
   "metadata": {},
   "outputs": [
    {
     "name": "stdout",
     "output_type": "stream",
     "text": [
      "INFO: Pandarallel will run on 4 workers.\n",
      "INFO: Pandarallel will use Memory file system to transfer data between the main process and workers.\n"
     ]
    }
   ],
   "source": [
    "import h5py\n",
    "from tqdm import tqdm\n",
    "import itertools\n",
    "import numpy as np\n",
    "\n",
    "import scipy.spatial\n",
    "import pandas as pd\n",
    "\n",
    "import matplotlib.pyplot as plt\n",
    "import seaborn as sns\n",
    "sns.set()\n",
    "\n",
    "import math\n",
    "\n",
    "from pandarallel import pandarallel\n",
    "pandarallel.initialize(progress_bar=True, nb_workers=4)\n",
    "\n",
    "ATOMIC_NUMBERS = [1, 6, 7, 8]\n",
    "N_KNOTS = 10\n",
    "CUTOFFS = {\n",
    "    (1, 1): (0.67900, 1.20000),\n",
    "    (1, 6): (0.68953, 1.52770),\n",
    "    (1, 7): (0.65268, 1.53994),\n",
    "    (1, 8): (0.67939, 1.46027),\n",
    "    (6, 6): (1.13182, 1.77828),\n",
    "    (6, 7): (1.02777, 1.76680),\n",
    "    (6, 8): (1.08495, 1.79859),\n",
    "    (7, 7): (1.07612, 1.82450),\n",
    "    (7, 8): (1.10998, 1.84896),\n",
    "    (8, 8): (1.16000, 1.50000),\n",
    "}\n",
    "\n",
    "\n",
    "ATOMIC_PAIRS = [tuple(sorted(x)) for x in itertools.combinations_with_replacement(ATOMIC_NUMBERS, 2)]\n",
    "KNOTS = {(i, j): np.linspace(*CUTOFFS[(i, j)], N_KNOTS) for i, j in ATOMIC_PAIRS}"
   ]
  },
  {
   "cell_type": "code",
   "execution_count": 2,
   "metadata": {},
   "outputs": [],
   "source": [
    "def load_h5_dataset(path, n_formulas=None, max_heavy=None, show_progress=True):\n",
    "    dframes = []\n",
    "\n",
    "    def get_n_heavy(item):\n",
    "        return (np.array(item[\"atomic_numbers\"]) > 1).sum()\n",
    "\n",
    "    with h5py.File(path, \"r\") as f:\n",
    "        iterator = filter(lambda x: get_n_heavy(x[1]) <= max_heavy, f.items())\n",
    "        iterator = itertools.islice(iterator, n_formulas)\n",
    "\n",
    "        if show_progress:\n",
    "            iterator = tqdm(iterator, total=n_formulas)\n",
    "\n",
    "        for empirical_formula, entry in iterator:\n",
    "            coordinates = list([np.asarray(c) for c in entry[\"coordinates\"]])\n",
    "            atomic_numbers = list(entry[\"atomic_numbers\"])\n",
    "            dframes.append(\n",
    "                pd.DataFrame(\n",
    "                    {\n",
    "                        \"mol\": np.array([empirical_formula] * len(coordinates), dtype=str),\n",
    "                        \"iconf\": np.array(list(range(len(coordinates))), dtype=np.int32),\n",
    "                        \"atomic_numbers\": [atomic_numbers] * len(coordinates),\n",
    "                        \"coordinates\": coordinates,\n",
    "                    },\n",
    "                )\n",
    "            )\n",
    "\n",
    "    df = pd.concat(dframes).reset_index(drop=True)\n",
    "\n",
    "    df[\"mol\"] = df[\"mol\"].astype(\"category\")\n",
    "    return df"
   ]
  },
  {
   "cell_type": "code",
   "execution_count": 3,
   "metadata": {},
   "outputs": [
    {
     "name": "stderr",
     "output_type": "stream",
     "text": [
      "471it [00:01, 358.93it/s]\n"
     ]
    }
   ],
   "source": [
    "df = load_h5_dataset(\"../data/raw/ANI-1ccx_clean_fullentry.h5\", n_formulas=None, max_heavy=8)\n"
   ]
  },
  {
   "cell_type": "code",
   "execution_count": 4,
   "metadata": {},
   "outputs": [
    {
     "data": {
      "text/html": [
       "<div>\n",
       "<style scoped>\n",
       "    .dataframe tbody tr th:only-of-type {\n",
       "        vertical-align: middle;\n",
       "    }\n",
       "\n",
       "    .dataframe tbody tr th {\n",
       "        vertical-align: top;\n",
       "    }\n",
       "\n",
       "    .dataframe thead th {\n",
       "        text-align: right;\n",
       "    }\n",
       "</style>\n",
       "<table border=\"1\" class=\"dataframe\">\n",
       "  <thead>\n",
       "    <tr style=\"text-align: right;\">\n",
       "      <th></th>\n",
       "      <th>mol</th>\n",
       "      <th>iconf</th>\n",
       "      <th>atomic_numbers</th>\n",
       "      <th>coordinates</th>\n",
       "    </tr>\n",
       "  </thead>\n",
       "  <tbody>\n",
       "    <tr>\n",
       "      <th>0</th>\n",
       "      <td>C1H1N1</td>\n",
       "      <td>0</td>\n",
       "      <td>[6, 1, 7]</td>\n",
       "      <td>[[0.014473461, 0.49763787, -5.881349e-17], [-0...</td>\n",
       "    </tr>\n",
       "    <tr>\n",
       "      <th>1</th>\n",
       "      <td>C1H1N1</td>\n",
       "      <td>1</td>\n",
       "      <td>[6, 1, 7]</td>\n",
       "      <td>[[0.0057673096, 0.4938686, -7.505203e-17], [-0...</td>\n",
       "    </tr>\n",
       "    <tr>\n",
       "      <th>2</th>\n",
       "      <td>C1H1N1</td>\n",
       "      <td>2</td>\n",
       "      <td>[6, 1, 7]</td>\n",
       "      <td>[[0.028821878, 0.51213276, 5.788162e-19], [-0....</td>\n",
       "    </tr>\n",
       "    <tr>\n",
       "      <th>3</th>\n",
       "      <td>C1H1N1</td>\n",
       "      <td>3</td>\n",
       "      <td>[6, 1, 7]</td>\n",
       "      <td>[[0.02539955, 0.5248015, -7.0745275e-18], [-0....</td>\n",
       "    </tr>\n",
       "    <tr>\n",
       "      <th>4</th>\n",
       "      <td>C1H1N1</td>\n",
       "      <td>4</td>\n",
       "      <td>[6, 1, 7]</td>\n",
       "      <td>[[0.020802982, 0.47589356, 4.2541737e-17], [-0...</td>\n",
       "    </tr>\n",
       "  </tbody>\n",
       "</table>\n",
       "</div>"
      ],
      "text/plain": [
       "      mol  iconf atomic_numbers  \\\n",
       "0  C1H1N1      0      [6, 1, 7]   \n",
       "1  C1H1N1      1      [6, 1, 7]   \n",
       "2  C1H1N1      2      [6, 1, 7]   \n",
       "3  C1H1N1      3      [6, 1, 7]   \n",
       "4  C1H1N1      4      [6, 1, 7]   \n",
       "\n",
       "                                         coordinates  \n",
       "0  [[0.014473461, 0.49763787, -5.881349e-17], [-0...  \n",
       "1  [[0.0057673096, 0.4938686, -7.505203e-17], [-0...  \n",
       "2  [[0.028821878, 0.51213276, 5.788162e-19], [-0....  \n",
       "3  [[0.02539955, 0.5248015, -7.0745275e-18], [-0....  \n",
       "4  [[0.020802982, 0.47589356, 4.2541737e-17], [-0...  "
      ]
     },
     "execution_count": 4,
     "metadata": {},
     "output_type": "execute_result"
    }
   ],
   "source": [
    "df.head()"
   ]
  },
  {
   "cell_type": "code",
   "execution_count": 5,
   "metadata": {},
   "outputs": [
    {
     "name": "stdout",
     "output_type": "stream",
     "text": [
      "<class 'pandas.core.frame.DataFrame'>\n",
      "RangeIndex: 232310 entries, 0 to 232309\n",
      "Data columns (total 4 columns):\n",
      " #   Column          Non-Null Count   Dtype   \n",
      "---  ------          --------------   -----   \n",
      " 0   mol             232310 non-null  category\n",
      " 1   iconf           232310 non-null  int32   \n",
      " 2   atomic_numbers  232310 non-null  object  \n",
      " 3   coordinates     232310 non-null  object  \n",
      "dtypes: category(1), int32(1), object(2)\n",
      "memory usage: 4.9+ MB\n"
     ]
    }
   ],
   "source": [
    "df.info()\n"
   ]
  },
  {
   "cell_type": "code",
   "execution_count": 6,
   "metadata": {},
   "outputs": [],
   "source": [
    "def combination_sorted(x, r):\n",
    "    return [tuple(sorted(p)) for p in itertools.combinations(x, r)]\n"
   ]
  },
  {
   "cell_type": "code",
   "execution_count": 7,
   "metadata": {},
   "outputs": [],
   "source": [
    "df[\"pairs\"] = df[\"atomic_numbers\"].apply(lambda x: combination_sorted(x, 2))"
   ]
  },
  {
   "cell_type": "code",
   "execution_count": 8,
   "metadata": {},
   "outputs": [],
   "source": [
    "df[\"pdist\"] = df[\"coordinates\"].apply(scipy.spatial.distance.pdist)"
   ]
  },
  {
   "cell_type": "code",
   "execution_count": 9,
   "metadata": {},
   "outputs": [
    {
     "data": {
      "text/plain": [
       "array([1, 1, 1, 0])"
      ]
     },
     "execution_count": 9,
     "metadata": {},
     "output_type": "execute_result"
    }
   ],
   "source": [
    "def atomic_value_counts(atomic_numbers, known_values):\n",
    "    counts = np.array([atomic_numbers.count(v) for v in known_values])\n",
    "    return counts\n",
    "\n",
    "atomic_value_counts([6, 1, 7], [1, 6, 7, 8])"
   ]
  },
  {
   "cell_type": "code",
   "execution_count": 10,
   "metadata": {},
   "outputs": [
    {
     "data": {
      "application/vnd.jupyter.widget-view+json": {
       "model_id": "84a00024155e44acb1da20324b9a5b6b",
       "version_major": 2,
       "version_minor": 0
      },
      "text/plain": [
       "VBox(children=(HBox(children=(IntProgress(value=0, description='0.00%', max=58078), Label(value='0 / 58078')))…"
      ]
     },
     "metadata": {},
     "output_type": "display_data"
    }
   ],
   "source": [
    "def group_pairwise_distances(pdists, pairs, known_pairs):\n",
    "    groups = [[] for _ in known_pairs]\n",
    "    for pdist, pair in zip(pdists, pairs):\n",
    "        idx = known_pairs.index(pair)\n",
    "        groups[idx].append(pdist)\n",
    "\n",
    "    groups = [np.array(g, dtype=np.float32) for g in groups]\n",
    "    return groups\n",
    "\n",
    "grouped_pdist_cols = [f\"r_{a1}_{a2}\" for a1, a2 in ATOMIC_PAIRS]\n",
    "df[grouped_pdist_cols] = df.parallel_apply(\n",
    "    lambda x: group_pairwise_distances(x[\"pdist\"], x[\"pairs\"], ATOMIC_PAIRS),\n",
    "    axis=1,\n",
    "    result_type=\"expand\",\n",
    ")"
   ]
  },
  {
   "cell_type": "code",
   "execution_count": 11,
   "metadata": {},
   "outputs": [
    {
     "data": {
      "application/vnd.jupyter.widget-view+json": {
       "model_id": "cbb1b0a2e21d435d8e2dd5158bfe677a",
       "version_major": 2,
       "version_minor": 0
      },
      "text/plain": [
       "VBox(children=(HBox(children=(IntProgress(value=0, description='0.00%', max=58078), Label(value='0 / 58078')))…"
      ]
     },
     "metadata": {},
     "output_type": "display_data"
    }
   ],
   "source": [
    "atom_count_cols = [f\"N_{a}\" for a in ATOMIC_NUMBERS]\n",
    "df[atom_count_cols] = df.parallel_apply(\n",
    "    lambda x: atomic_value_counts(x[\"atomic_numbers\"], ATOMIC_NUMBERS),\n",
    "    axis=1,\n",
    "    result_type=\"expand\",\n",
    ")"
   ]
  },
  {
   "cell_type": "code",
   "execution_count": 12,
   "metadata": {},
   "outputs": [],
   "source": [
    "import splines\n",
    "import importlib\n",
    "importlib.reload(splines)\n",
    "from splines import bspline_basis"
   ]
  },
  {
   "cell_type": "code",
   "execution_count": 13,
   "metadata": {},
   "outputs": [
    {
     "data": {
      "application/vnd.jupyter.widget-view+json": {
       "model_id": "307ec2c71d934353bf5cca1684a84f8f",
       "version_major": 2,
       "version_minor": 0
      },
      "text/plain": [
       "VBox(children=(HBox(children=(IntProgress(value=0, description='0.00%', max=58078), Label(value='0 / 58078')))…"
      ]
     },
     "metadata": {},
     "output_type": "display_data"
    },
    {
     "data": {
      "application/vnd.jupyter.widget-view+json": {
       "model_id": "4a602df2920c48a4b476568850a18bae",
       "version_major": 2,
       "version_minor": 0
      },
      "text/plain": [
       "VBox(children=(HBox(children=(IntProgress(value=0, description='0.00%', max=58078), Label(value='0 / 58078')))…"
      ]
     },
     "metadata": {},
     "output_type": "display_data"
    },
    {
     "data": {
      "application/vnd.jupyter.widget-view+json": {
       "model_id": "0c9c330dde884e0ba5793fad5984413b",
       "version_major": 2,
       "version_minor": 0
      },
      "text/plain": [
       "VBox(children=(HBox(children=(IntProgress(value=0, description='0.00%', max=58078), Label(value='0 / 58078')))…"
      ]
     },
     "metadata": {},
     "output_type": "display_data"
    },
    {
     "data": {
      "application/vnd.jupyter.widget-view+json": {
       "model_id": "78d3023d0ebf45cd8d73756f10e2d8c3",
       "version_major": 2,
       "version_minor": 0
      },
      "text/plain": [
       "VBox(children=(HBox(children=(IntProgress(value=0, description='0.00%', max=58078), Label(value='0 / 58078')))…"
      ]
     },
     "metadata": {},
     "output_type": "display_data"
    },
    {
     "data": {
      "application/vnd.jupyter.widget-view+json": {
       "model_id": "b9120a5de96a411a9f3dca396db173b7",
       "version_major": 2,
       "version_minor": 0
      },
      "text/plain": [
       "VBox(children=(HBox(children=(IntProgress(value=0, description='0.00%', max=58078), Label(value='0 / 58078')))…"
      ]
     },
     "metadata": {},
     "output_type": "display_data"
    },
    {
     "data": {
      "application/vnd.jupyter.widget-view+json": {
       "model_id": "9e9bc0a4af1c490e99f751c7c1cb7ab6",
       "version_major": 2,
       "version_minor": 0
      },
      "text/plain": [
       "VBox(children=(HBox(children=(IntProgress(value=0, description='0.00%', max=58078), Label(value='0 / 58078')))…"
      ]
     },
     "metadata": {},
     "output_type": "display_data"
    },
    {
     "data": {
      "application/vnd.jupyter.widget-view+json": {
       "model_id": "fbee43840e97447f9b3a31507f05f966",
       "version_major": 2,
       "version_minor": 0
      },
      "text/plain": [
       "VBox(children=(HBox(children=(IntProgress(value=0, description='0.00%', max=58078), Label(value='0 / 58078')))…"
      ]
     },
     "metadata": {},
     "output_type": "display_data"
    },
    {
     "data": {
      "application/vnd.jupyter.widget-view+json": {
       "model_id": "a55c93806ec64cff8d28908641e7f648",
       "version_major": 2,
       "version_minor": 0
      },
      "text/plain": [
       "VBox(children=(HBox(children=(IntProgress(value=0, description='0.00%', max=58078), Label(value='0 / 58078')))…"
      ]
     },
     "metadata": {},
     "output_type": "display_data"
    },
    {
     "data": {
      "application/vnd.jupyter.widget-view+json": {
       "model_id": "4fa52ac8984c4aeaa87e519c7e5db112",
       "version_major": 2,
       "version_minor": 0
      },
      "text/plain": [
       "VBox(children=(HBox(children=(IntProgress(value=0, description='0.00%', max=58078), Label(value='0 / 58078')))…"
      ]
     },
     "metadata": {},
     "output_type": "display_data"
    },
    {
     "data": {
      "application/vnd.jupyter.widget-view+json": {
       "model_id": "2e3f4460ad174e59852d9094de41c57c",
       "version_major": 2,
       "version_minor": 0
      },
      "text/plain": [
       "VBox(children=(HBox(children=(IntProgress(value=0, description='0.00%', max=58078), Label(value='0 / 58078')))…"
      ]
     },
     "metadata": {},
     "output_type": "display_data"
    }
   ],
   "source": [
    "basis_cols = [f\"B({col})\" for col in grouped_pdist_cols]\n",
    "\n",
    "def bspline_bases(rs, knots, degree=3):\n",
    "    if not rs.size:\n",
    "        bases = np.zeros((0, N_KNOTS - degree - 1), dtype=np.float32)\n",
    "    else:\n",
    "        bases = np.array([bspline_basis(r, degree, knots) for r in rs], dtype=np.float32)\n",
    "\n",
    "    return bases\n",
    "\n",
    "for col, knots in zip(grouped_pdist_cols, KNOTS.values()):\n",
    "    new_col = f\"B({col})\"\n",
    "    df[new_col] = df[col].parallel_apply(lambda rs: bspline_bases(rs, knots))"
   ]
  },
  {
   "cell_type": "code",
   "execution_count": 14,
   "metadata": {},
   "outputs": [],
   "source": [
    "def sum_within_range(bs, rs, rmin, rmax):\n",
    "    # Use np.ma to sum only the values within the range\n",
    "    mask = (rs >= rmin) & (rs <= rmax)\n",
    "    # mask = np.array([mask] * bs.shape[1]).T\n",
    "    # bs[mask,:] = 0.0\n",
    "    return np.sum(bs[mask,:], axis=0)"
   ]
  },
  {
   "cell_type": "code",
   "execution_count": 15,
   "metadata": {},
   "outputs": [],
   "source": [
    "summed_basis_cols = [f\"sum({col})\" for col in basis_cols]\n",
    "for col, cutoff in zip(basis_cols, CUTOFFS.values()):\n",
    "    lo, hi = cutoff\n",
    "    new_col = f\"sum({col})\"\n",
    "    z_i = col.strip(\"()\").split(\"_\")[1]\n",
    "    z_j = col.strip(\"()\").split(\"_\")[2]\n",
    "    pdist_col = f\"r_{z_i}_{z_j}\"\n",
    "    # df[new_col] = df[col].parallel_apply(lambda bs: np.sum(bs, axis=0))\n",
    "    df[new_col] = df[[col, pdist_col]].apply(lambda row: sum_within_range(row[0], row[1], lo, hi), axis=1)"
   ]
  },
  {
   "cell_type": "code",
   "execution_count": 16,
   "metadata": {},
   "outputs": [
    {
     "data": {
      "application/vnd.jupyter.widget-view+json": {
       "model_id": "9e5fa58e6fd24d5280509a453b705c6e",
       "version_major": 2,
       "version_minor": 0
      },
      "text/plain": [
       "VBox(children=(HBox(children=(IntProgress(value=0, description='0.00%', max=58078), Label(value='0 / 58078')))…"
      ]
     },
     "metadata": {},
     "output_type": "display_data"
    },
    {
     "data": {
      "application/vnd.jupyter.widget-view+json": {
       "model_id": "45b3c8d1b01841bbb2b7b6525807a18e",
       "version_major": 2,
       "version_minor": 0
      },
      "text/plain": [
       "VBox(children=(HBox(children=(IntProgress(value=0, description='0.00%', max=58078), Label(value='0 / 58078')))…"
      ]
     },
     "metadata": {},
     "output_type": "display_data"
    },
    {
     "data": {
      "application/vnd.jupyter.widget-view+json": {
       "model_id": "5330c925a6ce412daccba4734c2f36f3",
       "version_major": 2,
       "version_minor": 0
      },
      "text/plain": [
       "VBox(children=(HBox(children=(IntProgress(value=0, description='0.00%', max=58078), Label(value='0 / 58078')))…"
      ]
     },
     "metadata": {},
     "output_type": "display_data"
    },
    {
     "data": {
      "application/vnd.jupyter.widget-view+json": {
       "model_id": "7e27ad61b0734be3b6d4b4e0c574a7d8",
       "version_major": 2,
       "version_minor": 0
      },
      "text/plain": [
       "VBox(children=(HBox(children=(IntProgress(value=0, description='0.00%', max=58078), Label(value='0 / 58078')))…"
      ]
     },
     "metadata": {},
     "output_type": "display_data"
    },
    {
     "data": {
      "application/vnd.jupyter.widget-view+json": {
       "model_id": "446daa10df3e46eeba36c9eeb57fca86",
       "version_major": 2,
       "version_minor": 0
      },
      "text/plain": [
       "VBox(children=(HBox(children=(IntProgress(value=0, description='0.00%', max=58078), Label(value='0 / 58078')))…"
      ]
     },
     "metadata": {},
     "output_type": "display_data"
    },
    {
     "data": {
      "application/vnd.jupyter.widget-view+json": {
       "model_id": "d66ae51922494a0581bbbaf41f8fec9a",
       "version_major": 2,
       "version_minor": 0
      },
      "text/plain": [
       "VBox(children=(HBox(children=(IntProgress(value=0, description='0.00%', max=58078), Label(value='0 / 58078')))…"
      ]
     },
     "metadata": {},
     "output_type": "display_data"
    },
    {
     "data": {
      "application/vnd.jupyter.widget-view+json": {
       "model_id": "63a6bad3b83c426dafc0f39811ca5919",
       "version_major": 2,
       "version_minor": 0
      },
      "text/plain": [
       "VBox(children=(HBox(children=(IntProgress(value=0, description='0.00%', max=58078), Label(value='0 / 58078')))…"
      ]
     },
     "metadata": {},
     "output_type": "display_data"
    },
    {
     "data": {
      "application/vnd.jupyter.widget-view+json": {
       "model_id": "94a6b4f6620e4219b33191c186d91f3b",
       "version_major": 2,
       "version_minor": 0
      },
      "text/plain": [
       "VBox(children=(HBox(children=(IntProgress(value=0, description='0.00%', max=58078), Label(value='0 / 58078')))…"
      ]
     },
     "metadata": {},
     "output_type": "display_data"
    },
    {
     "data": {
      "application/vnd.jupyter.widget-view+json": {
       "model_id": "9117663b8328420394847cf5b9bfb75e",
       "version_major": 2,
       "version_minor": 0
      },
      "text/plain": [
       "VBox(children=(HBox(children=(IntProgress(value=0, description='0.00%', max=58078), Label(value='0 / 58078')))…"
      ]
     },
     "metadata": {},
     "output_type": "display_data"
    },
    {
     "data": {
      "application/vnd.jupyter.widget-view+json": {
       "model_id": "11bc4c8355cf493481806a01dd904899",
       "version_major": 2,
       "version_minor": 0
      },
      "text/plain": [
       "VBox(children=(HBox(children=(IntProgress(value=0, description='0.00%', max=58078), Label(value='0 / 58078')))…"
      ]
     },
     "metadata": {},
     "output_type": "display_data"
    }
   ],
   "source": [
    "def num_within_cutoff(rs, lo, hi):\n",
    "    return np.sum((rs >= lo) & (rs < hi))\n",
    "\n",
    "for col, cutoff in zip(grouped_pdist_cols, CUTOFFS.values()):\n",
    "    new_col = f\"N_within_{col}\"\n",
    "    df[new_col] = df[col].parallel_apply(lambda rs: num_within_cutoff(rs, *cutoff))"
   ]
  },
  {
   "cell_type": "code",
   "execution_count": 17,
   "metadata": {},
   "outputs": [
    {
     "data": {
      "text/html": [
       "<div>\n",
       "<style scoped>\n",
       "    .dataframe tbody tr th:only-of-type {\n",
       "        vertical-align: middle;\n",
       "    }\n",
       "\n",
       "    .dataframe tbody tr th {\n",
       "        vertical-align: top;\n",
       "    }\n",
       "\n",
       "    .dataframe thead th {\n",
       "        text-align: right;\n",
       "    }\n",
       "</style>\n",
       "<table border=\"1\" class=\"dataframe\">\n",
       "  <thead>\n",
       "    <tr style=\"text-align: right;\">\n",
       "      <th></th>\n",
       "      <th>mol</th>\n",
       "      <th>iconf</th>\n",
       "      <th>atomic_numbers</th>\n",
       "      <th>coordinates</th>\n",
       "      <th>pairs</th>\n",
       "      <th>pdist</th>\n",
       "      <th>r_1_1</th>\n",
       "      <th>r_1_6</th>\n",
       "      <th>r_1_7</th>\n",
       "      <th>r_1_8</th>\n",
       "      <th>...</th>\n",
       "      <th>N_within_r_1_1</th>\n",
       "      <th>N_within_r_1_6</th>\n",
       "      <th>N_within_r_1_7</th>\n",
       "      <th>N_within_r_1_8</th>\n",
       "      <th>N_within_r_6_6</th>\n",
       "      <th>N_within_r_6_7</th>\n",
       "      <th>N_within_r_6_8</th>\n",
       "      <th>N_within_r_7_7</th>\n",
       "      <th>N_within_r_7_8</th>\n",
       "      <th>N_within_r_8_8</th>\n",
       "    </tr>\n",
       "  </thead>\n",
       "  <tbody>\n",
       "    <tr>\n",
       "      <th>0</th>\n",
       "      <td>C1H1N1</td>\n",
       "      <td>0</td>\n",
       "      <td>[6, 1, 7]</td>\n",
       "      <td>[[0.014473461, 0.49763787, -5.881349e-17], [-0...</td>\n",
       "      <td>[(1, 6), (6, 7), (1, 7)]</td>\n",
       "      <td>[1.1984136189520689, 1.1640127897262573, 2.353...</td>\n",
       "      <td>[]</td>\n",
       "      <td>[1.1984136]</td>\n",
       "      <td>[2.3539095]</td>\n",
       "      <td>[]</td>\n",
       "      <td>...</td>\n",
       "      <td>0</td>\n",
       "      <td>1</td>\n",
       "      <td>0</td>\n",
       "      <td>0</td>\n",
       "      <td>0</td>\n",
       "      <td>1</td>\n",
       "      <td>0</td>\n",
       "      <td>0</td>\n",
       "      <td>0</td>\n",
       "      <td>0</td>\n",
       "    </tr>\n",
       "    <tr>\n",
       "      <th>1</th>\n",
       "      <td>C1H1N1</td>\n",
       "      <td>1</td>\n",
       "      <td>[6, 1, 7]</td>\n",
       "      <td>[[0.0057673096, 0.4938686, -7.505203e-17], [-0...</td>\n",
       "      <td>[(1, 6), (6, 7), (1, 7)]</td>\n",
       "      <td>[1.0874452537586408, 1.1426576972007751, 2.228...</td>\n",
       "      <td>[]</td>\n",
       "      <td>[1.0874453]</td>\n",
       "      <td>[2.2285645]</td>\n",
       "      <td>[]</td>\n",
       "      <td>...</td>\n",
       "      <td>0</td>\n",
       "      <td>1</td>\n",
       "      <td>0</td>\n",
       "      <td>0</td>\n",
       "      <td>0</td>\n",
       "      <td>1</td>\n",
       "      <td>0</td>\n",
       "      <td>0</td>\n",
       "      <td>0</td>\n",
       "      <td>0</td>\n",
       "    </tr>\n",
       "    <tr>\n",
       "      <th>2</th>\n",
       "      <td>C1H1N1</td>\n",
       "      <td>2</td>\n",
       "      <td>[6, 1, 7]</td>\n",
       "      <td>[[0.028821878, 0.51213276, 5.788162e-19], [-0....</td>\n",
       "      <td>[(1, 6), (6, 7), (1, 7)]</td>\n",
       "      <td>[1.2037641634250902, 1.1862828731536865, 2.355...</td>\n",
       "      <td>[]</td>\n",
       "      <td>[1.2037642]</td>\n",
       "      <td>[2.3552265]</td>\n",
       "      <td>[]</td>\n",
       "      <td>...</td>\n",
       "      <td>0</td>\n",
       "      <td>1</td>\n",
       "      <td>0</td>\n",
       "      <td>0</td>\n",
       "      <td>0</td>\n",
       "      <td>1</td>\n",
       "      <td>0</td>\n",
       "      <td>0</td>\n",
       "      <td>0</td>\n",
       "      <td>0</td>\n",
       "    </tr>\n",
       "    <tr>\n",
       "      <th>3</th>\n",
       "      <td>C1H1N1</td>\n",
       "      <td>3</td>\n",
       "      <td>[6, 1, 7]</td>\n",
       "      <td>[[0.02539955, 0.5248015, -7.0745275e-18], [-0....</td>\n",
       "      <td>[(1, 6), (6, 7), (1, 7)]</td>\n",
       "      <td>[1.033263525886234, 1.188195526599884, 2.18743...</td>\n",
       "      <td>[]</td>\n",
       "      <td>[1.0332636]</td>\n",
       "      <td>[2.1874397]</td>\n",
       "      <td>[]</td>\n",
       "      <td>...</td>\n",
       "      <td>0</td>\n",
       "      <td>1</td>\n",
       "      <td>0</td>\n",
       "      <td>0</td>\n",
       "      <td>0</td>\n",
       "      <td>1</td>\n",
       "      <td>0</td>\n",
       "      <td>0</td>\n",
       "      <td>0</td>\n",
       "      <td>0</td>\n",
       "    </tr>\n",
       "    <tr>\n",
       "      <th>4</th>\n",
       "      <td>C1H1N1</td>\n",
       "      <td>4</td>\n",
       "      <td>[6, 1, 7]</td>\n",
       "      <td>[[0.020802982, 0.47589356, 4.2541737e-17], [-0...</td>\n",
       "      <td>[(1, 6), (6, 7), (1, 7)]</td>\n",
       "      <td>[1.1477017960438562, 1.1103776693344116, 2.239...</td>\n",
       "      <td>[]</td>\n",
       "      <td>[1.1477017]</td>\n",
       "      <td>[2.2395298]</td>\n",
       "      <td>[]</td>\n",
       "      <td>...</td>\n",
       "      <td>0</td>\n",
       "      <td>1</td>\n",
       "      <td>0</td>\n",
       "      <td>0</td>\n",
       "      <td>0</td>\n",
       "      <td>1</td>\n",
       "      <td>0</td>\n",
       "      <td>0</td>\n",
       "      <td>0</td>\n",
       "      <td>0</td>\n",
       "    </tr>\n",
       "    <tr>\n",
       "      <th>...</th>\n",
       "      <td>...</td>\n",
       "      <td>...</td>\n",
       "      <td>...</td>\n",
       "      <td>...</td>\n",
       "      <td>...</td>\n",
       "      <td>...</td>\n",
       "      <td>...</td>\n",
       "      <td>...</td>\n",
       "      <td>...</td>\n",
       "      <td>...</td>\n",
       "      <td>...</td>\n",
       "      <td>...</td>\n",
       "      <td>...</td>\n",
       "      <td>...</td>\n",
       "      <td>...</td>\n",
       "      <td>...</td>\n",
       "      <td>...</td>\n",
       "      <td>...</td>\n",
       "      <td>...</td>\n",
       "      <td>...</td>\n",
       "      <td>...</td>\n",
       "    </tr>\n",
       "    <tr>\n",
       "      <th>232305</th>\n",
       "      <td>O3</td>\n",
       "      <td>55</td>\n",
       "      <td>[8, 8, 8]</td>\n",
       "      <td>[[1.1320525, -0.18520811, 0.0], [-8.07819e-17,...</td>\n",
       "      <td>[(8, 8), (8, 8), (8, 8)]</td>\n",
       "      <td>[1.2904894231959556, 2.265006847226885, 1.3223...</td>\n",
       "      <td>[]</td>\n",
       "      <td>[]</td>\n",
       "      <td>[]</td>\n",
       "      <td>[]</td>\n",
       "      <td>...</td>\n",
       "      <td>0</td>\n",
       "      <td>0</td>\n",
       "      <td>0</td>\n",
       "      <td>0</td>\n",
       "      <td>0</td>\n",
       "      <td>0</td>\n",
       "      <td>0</td>\n",
       "      <td>0</td>\n",
       "      <td>0</td>\n",
       "      <td>2</td>\n",
       "    </tr>\n",
       "    <tr>\n",
       "      <th>232306</th>\n",
       "      <td>O3</td>\n",
       "      <td>56</td>\n",
       "      <td>[8, 8, 8]</td>\n",
       "      <td>[[1.0928351, -0.27656218, -1.1750095e-16], [-1...</td>\n",
       "      <td>[(8, 8), (8, 8), (8, 8)]</td>\n",
       "      <td>[1.329817088292324, 2.1868549382001903, 1.2901...</td>\n",
       "      <td>[]</td>\n",
       "      <td>[]</td>\n",
       "      <td>[]</td>\n",
       "      <td>[]</td>\n",
       "      <td>...</td>\n",
       "      <td>0</td>\n",
       "      <td>0</td>\n",
       "      <td>0</td>\n",
       "      <td>0</td>\n",
       "      <td>0</td>\n",
       "      <td>0</td>\n",
       "      <td>0</td>\n",
       "      <td>0</td>\n",
       "      <td>0</td>\n",
       "      <td>2</td>\n",
       "    </tr>\n",
       "    <tr>\n",
       "      <th>232307</th>\n",
       "      <td>O3</td>\n",
       "      <td>57</td>\n",
       "      <td>[8, 8, 8]</td>\n",
       "      <td>[[1.1197131, -0.21655372, 0.0], [9.546953e-17,...</td>\n",
       "      <td>[(8, 8), (8, 8), (8, 8)]</td>\n",
       "      <td>[1.3038007243567904, 2.23950070353059, 1.31325...</td>\n",
       "      <td>[]</td>\n",
       "      <td>[]</td>\n",
       "      <td>[]</td>\n",
       "      <td>[]</td>\n",
       "      <td>...</td>\n",
       "      <td>0</td>\n",
       "      <td>0</td>\n",
       "      <td>0</td>\n",
       "      <td>0</td>\n",
       "      <td>0</td>\n",
       "      <td>0</td>\n",
       "      <td>0</td>\n",
       "      <td>0</td>\n",
       "      <td>0</td>\n",
       "      <td>2</td>\n",
       "    </tr>\n",
       "    <tr>\n",
       "      <th>232308</th>\n",
       "      <td>O3</td>\n",
       "      <td>58</td>\n",
       "      <td>[8, 8, 8]</td>\n",
       "      <td>[[1.0612841, -0.24127617, 0.0], [1.1750095e-16...</td>\n",
       "      <td>[(8, 8), (8, 8), (8, 8)]</td>\n",
       "      <td>[1.2891101995491323, 2.1225829712276463, 1.293...</td>\n",
       "      <td>[]</td>\n",
       "      <td>[]</td>\n",
       "      <td>[]</td>\n",
       "      <td>[]</td>\n",
       "      <td>...</td>\n",
       "      <td>0</td>\n",
       "      <td>0</td>\n",
       "      <td>0</td>\n",
       "      <td>0</td>\n",
       "      <td>0</td>\n",
       "      <td>0</td>\n",
       "      <td>0</td>\n",
       "      <td>0</td>\n",
       "      <td>0</td>\n",
       "      <td>2</td>\n",
       "    </tr>\n",
       "    <tr>\n",
       "      <th>232309</th>\n",
       "      <td>O3</td>\n",
       "      <td>59</td>\n",
       "      <td>[8, 8, 8]</td>\n",
       "      <td>[[1.1138381, -0.17543231, -1.15665e-16], [1.17...</td>\n",
       "      <td>[(8, 8), (8, 8), (8, 8)]</td>\n",
       "      <td>[1.2430504072377278, 2.227822711116542, 1.2546...</td>\n",
       "      <td>[]</td>\n",
       "      <td>[]</td>\n",
       "      <td>[]</td>\n",
       "      <td>[]</td>\n",
       "      <td>...</td>\n",
       "      <td>0</td>\n",
       "      <td>0</td>\n",
       "      <td>0</td>\n",
       "      <td>0</td>\n",
       "      <td>0</td>\n",
       "      <td>0</td>\n",
       "      <td>0</td>\n",
       "      <td>0</td>\n",
       "      <td>0</td>\n",
       "      <td>2</td>\n",
       "    </tr>\n",
       "  </tbody>\n",
       "</table>\n",
       "<p>232310 rows × 50 columns</p>\n",
       "</div>"
      ],
      "text/plain": [
       "           mol  iconf atomic_numbers  \\\n",
       "0       C1H1N1      0      [6, 1, 7]   \n",
       "1       C1H1N1      1      [6, 1, 7]   \n",
       "2       C1H1N1      2      [6, 1, 7]   \n",
       "3       C1H1N1      3      [6, 1, 7]   \n",
       "4       C1H1N1      4      [6, 1, 7]   \n",
       "...        ...    ...            ...   \n",
       "232305      O3     55      [8, 8, 8]   \n",
       "232306      O3     56      [8, 8, 8]   \n",
       "232307      O3     57      [8, 8, 8]   \n",
       "232308      O3     58      [8, 8, 8]   \n",
       "232309      O3     59      [8, 8, 8]   \n",
       "\n",
       "                                              coordinates  \\\n",
       "0       [[0.014473461, 0.49763787, -5.881349e-17], [-0...   \n",
       "1       [[0.0057673096, 0.4938686, -7.505203e-17], [-0...   \n",
       "2       [[0.028821878, 0.51213276, 5.788162e-19], [-0....   \n",
       "3       [[0.02539955, 0.5248015, -7.0745275e-18], [-0....   \n",
       "4       [[0.020802982, 0.47589356, 4.2541737e-17], [-0...   \n",
       "...                                                   ...   \n",
       "232305  [[1.1320525, -0.18520811, 0.0], [-8.07819e-17,...   \n",
       "232306  [[1.0928351, -0.27656218, -1.1750095e-16], [-1...   \n",
       "232307  [[1.1197131, -0.21655372, 0.0], [9.546953e-17,...   \n",
       "232308  [[1.0612841, -0.24127617, 0.0], [1.1750095e-16...   \n",
       "232309  [[1.1138381, -0.17543231, -1.15665e-16], [1.17...   \n",
       "\n",
       "                           pairs  \\\n",
       "0       [(1, 6), (6, 7), (1, 7)]   \n",
       "1       [(1, 6), (6, 7), (1, 7)]   \n",
       "2       [(1, 6), (6, 7), (1, 7)]   \n",
       "3       [(1, 6), (6, 7), (1, 7)]   \n",
       "4       [(1, 6), (6, 7), (1, 7)]   \n",
       "...                          ...   \n",
       "232305  [(8, 8), (8, 8), (8, 8)]   \n",
       "232306  [(8, 8), (8, 8), (8, 8)]   \n",
       "232307  [(8, 8), (8, 8), (8, 8)]   \n",
       "232308  [(8, 8), (8, 8), (8, 8)]   \n",
       "232309  [(8, 8), (8, 8), (8, 8)]   \n",
       "\n",
       "                                                    pdist r_1_1        r_1_6  \\\n",
       "0       [1.1984136189520689, 1.1640127897262573, 2.353...    []  [1.1984136]   \n",
       "1       [1.0874452537586408, 1.1426576972007751, 2.228...    []  [1.0874453]   \n",
       "2       [1.2037641634250902, 1.1862828731536865, 2.355...    []  [1.2037642]   \n",
       "3       [1.033263525886234, 1.188195526599884, 2.18743...    []  [1.0332636]   \n",
       "4       [1.1477017960438562, 1.1103776693344116, 2.239...    []  [1.1477017]   \n",
       "...                                                   ...   ...          ...   \n",
       "232305  [1.2904894231959556, 2.265006847226885, 1.3223...    []           []   \n",
       "232306  [1.329817088292324, 2.1868549382001903, 1.2901...    []           []   \n",
       "232307  [1.3038007243567904, 2.23950070353059, 1.31325...    []           []   \n",
       "232308  [1.2891101995491323, 2.1225829712276463, 1.293...    []           []   \n",
       "232309  [1.2430504072377278, 2.227822711116542, 1.2546...    []           []   \n",
       "\n",
       "              r_1_7 r_1_8  ... N_within_r_1_1 N_within_r_1_6 N_within_r_1_7  \\\n",
       "0       [2.3539095]    []  ...              0              1              0   \n",
       "1       [2.2285645]    []  ...              0              1              0   \n",
       "2       [2.3552265]    []  ...              0              1              0   \n",
       "3       [2.1874397]    []  ...              0              1              0   \n",
       "4       [2.2395298]    []  ...              0              1              0   \n",
       "...             ...   ...  ...            ...            ...            ...   \n",
       "232305           []    []  ...              0              0              0   \n",
       "232306           []    []  ...              0              0              0   \n",
       "232307           []    []  ...              0              0              0   \n",
       "232308           []    []  ...              0              0              0   \n",
       "232309           []    []  ...              0              0              0   \n",
       "\n",
       "       N_within_r_1_8 N_within_r_6_6 N_within_r_6_7  N_within_r_6_8  \\\n",
       "0                   0              0              1               0   \n",
       "1                   0              0              1               0   \n",
       "2                   0              0              1               0   \n",
       "3                   0              0              1               0   \n",
       "4                   0              0              1               0   \n",
       "...               ...            ...            ...             ...   \n",
       "232305              0              0              0               0   \n",
       "232306              0              0              0               0   \n",
       "232307              0              0              0               0   \n",
       "232308              0              0              0               0   \n",
       "232309              0              0              0               0   \n",
       "\n",
       "        N_within_r_7_7  N_within_r_7_8  N_within_r_8_8  \n",
       "0                    0               0               0  \n",
       "1                    0               0               0  \n",
       "2                    0               0               0  \n",
       "3                    0               0               0  \n",
       "4                    0               0               0  \n",
       "...                ...             ...             ...  \n",
       "232305               0               0               2  \n",
       "232306               0               0               2  \n",
       "232307               0               0               2  \n",
       "232308               0               0               2  \n",
       "232309               0               0               2  \n",
       "\n",
       "[232310 rows x 50 columns]"
      ]
     },
     "execution_count": 17,
     "metadata": {},
     "output_type": "execute_result"
    }
   ],
   "source": [
    "df"
   ]
  },
  {
   "cell_type": "code",
   "execution_count": 18,
   "metadata": {},
   "outputs": [],
   "source": [
    "z_i = 6\n",
    "z_j = 6\n",
    "basis_function = 5"
   ]
  },
  {
   "cell_type": "code",
   "execution_count": 19,
   "metadata": {},
   "outputs": [
    {
     "data": {
      "image/png": "[encoded data removed]",
      "text/plain": [
       "<Figure size 640x480 with 1 Axes>"
      ]
     },
     "metadata": {},
     "output_type": "display_data"
    }
   ],
   "source": [
    "df[f\"sum(B(r_{z_i}_{z_j}))\"].apply(lambda x: x[basis_function]).hist(bins=100)\n",
    "plt.xlabel(f\"$\\\\Sigma$ B$^{{({basis_function})}}$($r_{{{z_i},{z_j}}}$)\")\n",
    "plt.ylabel(\"count\")\n",
    "plt.show()"
   ]
  },
  {
   "cell_type": "code",
   "execution_count": 20,
   "metadata": {},
   "outputs": [
    {
     "data": {
      "image/png": "[encoded data removed]",
      "text/plain": [
       "<Figure size 1000x2000 with 6 Axes>"
      ]
     },
     "metadata": {},
     "output_type": "display_data"
    }
   ],
   "source": [
    "def collect_groupby(df, groupby, values):\n",
    "    return [values[df[groupby] == g].values for g in df[groupby].unique()]\n",
    "\n",
    "fig, axes = plt.subplots(N_KNOTS - 3 - 1, 1, figsize=(10, 20), sharex=True, sharey=True)\n",
    "\n",
    "for i, ax in enumerate(axes):\n",
    "    ax.boxplot(collect_groupby(df, f\"N_{z_i}\", df[f\"sum(B(r_{z_i}_{z_j}))\"].apply(lambda x: x[i])))\n",
    "    ax.set_title(f\"Basis function {i}\")\n",
    "    ax.set_ylabel(f\"$\\\\Sigma$ B$^{{({basis_function})}}$($r_{{{z_i},{z_j}}}$)\")\n",
    "plt.xlabel(f\"# {z_i}\")\n",
    "plt.show()"
   ]
  },
  {
   "cell_type": "code",
   "execution_count": 21,
   "metadata": {},
   "outputs": [
    {
     "data": {
      "text/html": [
       "<div>\n",
       "<style scoped>\n",
       "    .dataframe tbody tr th:only-of-type {\n",
       "        vertical-align: middle;\n",
       "    }\n",
       "\n",
       "    .dataframe tbody tr th {\n",
       "        vertical-align: top;\n",
       "    }\n",
       "\n",
       "    .dataframe thead th {\n",
       "        text-align: right;\n",
       "    }\n",
       "</style>\n",
       "<table border=\"1\" class=\"dataframe\">\n",
       "  <thead>\n",
       "    <tr style=\"text-align: right;\">\n",
       "      <th></th>\n",
       "      <th>mol</th>\n",
       "      <th>iconf</th>\n",
       "      <th>atomic_numbers</th>\n",
       "      <th>coordinates</th>\n",
       "      <th>pairs</th>\n",
       "      <th>pdist</th>\n",
       "      <th>r_1_1</th>\n",
       "      <th>r_1_6</th>\n",
       "      <th>r_1_7</th>\n",
       "      <th>r_1_8</th>\n",
       "      <th>...</th>\n",
       "      <th>N_within_r_1_1</th>\n",
       "      <th>N_within_r_1_6</th>\n",
       "      <th>N_within_r_1_7</th>\n",
       "      <th>N_within_r_1_8</th>\n",
       "      <th>N_within_r_6_6</th>\n",
       "      <th>N_within_r_6_7</th>\n",
       "      <th>N_within_r_6_8</th>\n",
       "      <th>N_within_r_7_7</th>\n",
       "      <th>N_within_r_7_8</th>\n",
       "      <th>N_within_r_8_8</th>\n",
       "    </tr>\n",
       "  </thead>\n",
       "  <tbody>\n",
       "    <tr>\n",
       "      <th>1436</th>\n",
       "      <td>C1H2N2</td>\n",
       "      <td>0</td>\n",
       "      <td>[6, 1, 1, 7, 7]</td>\n",
       "      <td>[[-0.003055805, -0.030419262, 0.05139095], [1....</td>\n",
       "      <td>[(1, 6), (1, 6), (6, 7), (6, 7), (1, 1), (1, 7...</td>\n",
       "      <td>[1.8672246706469535, 2.0442744053268593, 1.245...</td>\n",
       "      <td>[3.8417702]</td>\n",
       "      <td>[1.8672247, 2.0442743]</td>\n",
       "      <td>[1.1560113, 2.8878524, 3.2605093, 0.9800411]</td>\n",
       "      <td>[]</td>\n",
       "      <td>...</td>\n",
       "      <td>0</td>\n",
       "      <td>0</td>\n",
       "      <td>2</td>\n",
       "      <td>0</td>\n",
       "      <td>0</td>\n",
       "      <td>2</td>\n",
       "      <td>0</td>\n",
       "      <td>0</td>\n",
       "      <td>0</td>\n",
       "      <td>0</td>\n",
       "    </tr>\n",
       "    <tr>\n",
       "      <th>1437</th>\n",
       "      <td>C1H2N2</td>\n",
       "      <td>1</td>\n",
       "      <td>[6, 1, 1, 7, 7]</td>\n",
       "      <td>[[0.025158156, -0.06864563, -0.035694055], [1....</td>\n",
       "      <td>[(1, 6), (1, 6), (6, 7), (6, 7), (1, 1), (1, 7...</td>\n",
       "      <td>[1.9485985506513746, 2.1868444093810546, 1.192...</td>\n",
       "      <td>[4.0616164]</td>\n",
       "      <td>[1.9485985, 2.1868443]</td>\n",
       "      <td>[0.995524, 3.0686364, 3.366869, 1.0243025]</td>\n",
       "      <td>[]</td>\n",
       "      <td>...</td>\n",
       "      <td>0</td>\n",
       "      <td>0</td>\n",
       "      <td>2</td>\n",
       "      <td>0</td>\n",
       "      <td>0</td>\n",
       "      <td>2</td>\n",
       "      <td>0</td>\n",
       "      <td>0</td>\n",
       "      <td>0</td>\n",
       "      <td>0</td>\n",
       "    </tr>\n",
       "    <tr>\n",
       "      <th>1438</th>\n",
       "      <td>C1H2N2</td>\n",
       "      <td>2</td>\n",
       "      <td>[6, 1, 1, 7, 7]</td>\n",
       "      <td>[[-0.037765197, -0.01261671, -0.037668448], [-...</td>\n",
       "      <td>[(1, 6), (1, 6), (6, 7), (6, 7), (1, 1), (1, 7...</td>\n",
       "      <td>[2.178112759948494, 2.0175276993989892, 1.1067...</td>\n",
       "      <td>[4.1533318]</td>\n",
       "      <td>[2.1781127, 2.0175276]</td>\n",
       "      <td>[1.1507438, 3.4112425, 3.0321705, 1.0974189]</td>\n",
       "      <td>[]</td>\n",
       "      <td>...</td>\n",
       "      <td>0</td>\n",
       "      <td>0</td>\n",
       "      <td>2</td>\n",
       "      <td>0</td>\n",
       "      <td>0</td>\n",
       "      <td>2</td>\n",
       "      <td>0</td>\n",
       "      <td>0</td>\n",
       "      <td>0</td>\n",
       "      <td>0</td>\n",
       "    </tr>\n",
       "    <tr>\n",
       "      <th>1439</th>\n",
       "      <td>C1H2N2</td>\n",
       "      <td>3</td>\n",
       "      <td>[6, 1, 1, 7, 7]</td>\n",
       "      <td>[[-0.002880196, -0.010604168, 0.045451522], [1...</td>\n",
       "      <td>[(1, 6), (1, 6), (6, 7), (6, 7), (1, 1), (1, 7...</td>\n",
       "      <td>[1.8502075484112126, 2.062564185011617, 1.2312...</td>\n",
       "      <td>[3.8555505]</td>\n",
       "      <td>[1.8502076, 2.0625641]</td>\n",
       "      <td>[1.0958004, 2.8944232, 3.2666411, 0.9859729]</td>\n",
       "      <td>[]</td>\n",
       "      <td>...</td>\n",
       "      <td>0</td>\n",
       "      <td>0</td>\n",
       "      <td>2</td>\n",
       "      <td>0</td>\n",
       "      <td>0</td>\n",
       "      <td>2</td>\n",
       "      <td>0</td>\n",
       "      <td>0</td>\n",
       "      <td>0</td>\n",
       "      <td>0</td>\n",
       "    </tr>\n",
       "    <tr>\n",
       "      <th>1440</th>\n",
       "      <td>C1H2N2</td>\n",
       "      <td>4</td>\n",
       "      <td>[6, 1, 1, 7, 7]</td>\n",
       "      <td>[[-0.0070134946, -0.017933339, -0.034655783], ...</td>\n",
       "      <td>[(1, 6), (1, 6), (6, 7), (6, 7), (1, 1), (1, 7...</td>\n",
       "      <td>[1.9735661756212524, 2.18597562762268, 1.25308...</td>\n",
       "      <td>[4.110588]</td>\n",
       "      <td>[1.9735662, 2.1859756]</td>\n",
       "      <td>[1.0546333, 3.1071465, 3.4139273, 1.0276339]</td>\n",
       "      <td>[]</td>\n",
       "      <td>...</td>\n",
       "      <td>0</td>\n",
       "      <td>0</td>\n",
       "      <td>2</td>\n",
       "      <td>0</td>\n",
       "      <td>0</td>\n",
       "      <td>2</td>\n",
       "      <td>0</td>\n",
       "      <td>0</td>\n",
       "      <td>0</td>\n",
       "      <td>0</td>\n",
       "    </tr>\n",
       "    <tr>\n",
       "      <th>...</th>\n",
       "      <td>...</td>\n",
       "      <td>...</td>\n",
       "      <td>...</td>\n",
       "      <td>...</td>\n",
       "      <td>...</td>\n",
       "      <td>...</td>\n",
       "      <td>...</td>\n",
       "      <td>...</td>\n",
       "      <td>...</td>\n",
       "      <td>...</td>\n",
       "      <td>...</td>\n",
       "      <td>...</td>\n",
       "      <td>...</td>\n",
       "      <td>...</td>\n",
       "      <td>...</td>\n",
       "      <td>...</td>\n",
       "      <td>...</td>\n",
       "      <td>...</td>\n",
       "      <td>...</td>\n",
       "      <td>...</td>\n",
       "      <td>...</td>\n",
       "    </tr>\n",
       "    <tr>\n",
       "      <th>227402</th>\n",
       "      <td>C8H2</td>\n",
       "      <td>0</td>\n",
       "      <td>[6, 6, 6, 6, 6, 6, 6, 6, 1, 1]</td>\n",
       "      <td>[[4.402144, 0.5119653, 0.11370172], [3.1739, -...</td>\n",
       "      <td>[(6, 6), (6, 6), (6, 6), (6, 6), (6, 6), (6, 6...</td>\n",
       "      <td>[1.3896790665802023, 2.6454072067118117, 3.843...</td>\n",
       "      <td>[10.880678]</td>\n",
       "      <td>[1.1672131, 9.8776045, 2.5290387, 8.671373, 3....</td>\n",
       "      <td>[]</td>\n",
       "      <td>[]</td>\n",
       "      <td>...</td>\n",
       "      <td>0</td>\n",
       "      <td>2</td>\n",
       "      <td>0</td>\n",
       "      <td>0</td>\n",
       "      <td>7</td>\n",
       "      <td>0</td>\n",
       "      <td>0</td>\n",
       "      <td>0</td>\n",
       "      <td>0</td>\n",
       "      <td>0</td>\n",
       "    </tr>\n",
       "    <tr>\n",
       "      <th>227403</th>\n",
       "      <td>C8H2</td>\n",
       "      <td>1</td>\n",
       "      <td>[6, 6, 6, 6, 6, 6, 6, 6, 1, 1]</td>\n",
       "      <td>[[-4.520768, 0.49467716, 0.036591176], [-3.300...</td>\n",
       "      <td>[(6, 6), (6, 6), (6, 6), (6, 6), (6, 6), (6, 6...</td>\n",
       "      <td>[1.397003580331503, 2.8073298040428174, 3.8938...</td>\n",
       "      <td>[11.433147]</td>\n",
       "      <td>[1.3829259, 10.245954, 2.756325, 9.02766, 4.14...</td>\n",
       "      <td>[]</td>\n",
       "      <td>[]</td>\n",
       "      <td>...</td>\n",
       "      <td>0</td>\n",
       "      <td>2</td>\n",
       "      <td>0</td>\n",
       "      <td>0</td>\n",
       "      <td>7</td>\n",
       "      <td>0</td>\n",
       "      <td>0</td>\n",
       "      <td>0</td>\n",
       "      <td>0</td>\n",
       "      <td>0</td>\n",
       "    </tr>\n",
       "    <tr>\n",
       "      <th>227404</th>\n",
       "      <td>C8H2</td>\n",
       "      <td>2</td>\n",
       "      <td>[6, 6, 6, 6, 6, 6, 6, 6, 1, 1]</td>\n",
       "      <td>[[-4.5090914, -0.06016159, 0.014842001], [-3.3...</td>\n",
       "      <td>[(6, 6), (6, 6), (6, 6), (6, 6), (6, 6), (6, 6...</td>\n",
       "      <td>[1.207057100433629, 2.6289181196437146, 3.8391...</td>\n",
       "      <td>[11.185312]</td>\n",
       "      <td>[1.0834332, 10.105187, 2.2868967, 8.899388, 3....</td>\n",
       "      <td>[]</td>\n",
       "      <td>[]</td>\n",
       "      <td>...</td>\n",
       "      <td>0</td>\n",
       "      <td>2</td>\n",
       "      <td>0</td>\n",
       "      <td>0</td>\n",
       "      <td>7</td>\n",
       "      <td>0</td>\n",
       "      <td>0</td>\n",
       "      <td>0</td>\n",
       "      <td>0</td>\n",
       "      <td>0</td>\n",
       "    </tr>\n",
       "    <tr>\n",
       "      <th>227405</th>\n",
       "      <td>C8H2</td>\n",
       "      <td>3</td>\n",
       "      <td>[6, 6, 6, 6, 6, 6, 6, 6, 1, 1]</td>\n",
       "      <td>[[-4.503917, -0.3421017, -0.000250075], [-3.27...</td>\n",
       "      <td>[(6, 6), (6, 6), (6, 6), (6, 6), (6, 6), (6, 6...</td>\n",
       "      <td>[1.2838693516258886, 2.7057670801779286, 3.824...</td>\n",
       "      <td>[11.473287]</td>\n",
       "      <td>[1.2266014, 10.292377, 2.4954176, 9.048904, 3....</td>\n",
       "      <td>[]</td>\n",
       "      <td>[]</td>\n",
       "      <td>...</td>\n",
       "      <td>0</td>\n",
       "      <td>2</td>\n",
       "      <td>0</td>\n",
       "      <td>0</td>\n",
       "      <td>7</td>\n",
       "      <td>0</td>\n",
       "      <td>0</td>\n",
       "      <td>0</td>\n",
       "      <td>0</td>\n",
       "      <td>0</td>\n",
       "    </tr>\n",
       "    <tr>\n",
       "      <th>227406</th>\n",
       "      <td>C8H2</td>\n",
       "      <td>4</td>\n",
       "      <td>[6, 6, 6, 6, 6, 6, 6, 6, 1, 1]</td>\n",
       "      <td>[[4.444535, -0.34117866, -0.066866696], [3.210...</td>\n",
       "      <td>[(6, 6), (6, 6), (6, 6), (6, 6), (6, 6), (6, 6...</td>\n",
       "      <td>[1.282895054262721, 2.6656692150197117, 3.8412...</td>\n",
       "      <td>[11.229113]</td>\n",
       "      <td>[1.2156079, 10.086246, 2.461794, 8.839634, 3.8...</td>\n",
       "      <td>[]</td>\n",
       "      <td>[]</td>\n",
       "      <td>...</td>\n",
       "      <td>0</td>\n",
       "      <td>2</td>\n",
       "      <td>0</td>\n",
       "      <td>0</td>\n",
       "      <td>7</td>\n",
       "      <td>0</td>\n",
       "      <td>0</td>\n",
       "      <td>0</td>\n",
       "      <td>0</td>\n",
       "      <td>0</td>\n",
       "    </tr>\n",
       "  </tbody>\n",
       "</table>\n",
       "<p>17337 rows × 50 columns</p>\n",
       "</div>"
      ],
      "text/plain": [
       "           mol  iconf                  atomic_numbers  \\\n",
       "1436    C1H2N2      0                 [6, 1, 1, 7, 7]   \n",
       "1437    C1H2N2      1                 [6, 1, 1, 7, 7]   \n",
       "1438    C1H2N2      2                 [6, 1, 1, 7, 7]   \n",
       "1439    C1H2N2      3                 [6, 1, 1, 7, 7]   \n",
       "1440    C1H2N2      4                 [6, 1, 1, 7, 7]   \n",
       "...        ...    ...                             ...   \n",
       "227402    C8H2      0  [6, 6, 6, 6, 6, 6, 6, 6, 1, 1]   \n",
       "227403    C8H2      1  [6, 6, 6, 6, 6, 6, 6, 6, 1, 1]   \n",
       "227404    C8H2      2  [6, 6, 6, 6, 6, 6, 6, 6, 1, 1]   \n",
       "227405    C8H2      3  [6, 6, 6, 6, 6, 6, 6, 6, 1, 1]   \n",
       "227406    C8H2      4  [6, 6, 6, 6, 6, 6, 6, 6, 1, 1]   \n",
       "\n",
       "                                              coordinates  \\\n",
       "1436    [[-0.003055805, -0.030419262, 0.05139095], [1....   \n",
       "1437    [[0.025158156, -0.06864563, -0.035694055], [1....   \n",
       "1438    [[-0.037765197, -0.01261671, -0.037668448], [-...   \n",
       "1439    [[-0.002880196, -0.010604168, 0.045451522], [1...   \n",
       "1440    [[-0.0070134946, -0.017933339, -0.034655783], ...   \n",
       "...                                                   ...   \n",
       "227402  [[4.402144, 0.5119653, 0.11370172], [3.1739, -...   \n",
       "227403  [[-4.520768, 0.49467716, 0.036591176], [-3.300...   \n",
       "227404  [[-4.5090914, -0.06016159, 0.014842001], [-3.3...   \n",
       "227405  [[-4.503917, -0.3421017, -0.000250075], [-3.27...   \n",
       "227406  [[4.444535, -0.34117866, -0.066866696], [3.210...   \n",
       "\n",
       "                                                    pairs  \\\n",
       "1436    [(1, 6), (1, 6), (6, 7), (6, 7), (1, 1), (1, 7...   \n",
       "1437    [(1, 6), (1, 6), (6, 7), (6, 7), (1, 1), (1, 7...   \n",
       "1438    [(1, 6), (1, 6), (6, 7), (6, 7), (1, 1), (1, 7...   \n",
       "1439    [(1, 6), (1, 6), (6, 7), (6, 7), (1, 1), (1, 7...   \n",
       "1440    [(1, 6), (1, 6), (6, 7), (6, 7), (1, 1), (1, 7...   \n",
       "...                                                   ...   \n",
       "227402  [(6, 6), (6, 6), (6, 6), (6, 6), (6, 6), (6, 6...   \n",
       "227403  [(6, 6), (6, 6), (6, 6), (6, 6), (6, 6), (6, 6...   \n",
       "227404  [(6, 6), (6, 6), (6, 6), (6, 6), (6, 6), (6, 6...   \n",
       "227405  [(6, 6), (6, 6), (6, 6), (6, 6), (6, 6), (6, 6...   \n",
       "227406  [(6, 6), (6, 6), (6, 6), (6, 6), (6, 6), (6, 6...   \n",
       "\n",
       "                                                    pdist        r_1_1  \\\n",
       "1436    [1.8672246706469535, 2.0442744053268593, 1.245...  [3.8417702]   \n",
       "1437    [1.9485985506513746, 2.1868444093810546, 1.192...  [4.0616164]   \n",
       "1438    [2.178112759948494, 2.0175276993989892, 1.1067...  [4.1533318]   \n",
       "1439    [1.8502075484112126, 2.062564185011617, 1.2312...  [3.8555505]   \n",
       "1440    [1.9735661756212524, 2.18597562762268, 1.25308...   [4.110588]   \n",
       "...                                                   ...          ...   \n",
       "227402  [1.3896790665802023, 2.6454072067118117, 3.843...  [10.880678]   \n",
       "227403  [1.397003580331503, 2.8073298040428174, 3.8938...  [11.433147]   \n",
       "227404  [1.207057100433629, 2.6289181196437146, 3.8391...  [11.185312]   \n",
       "227405  [1.2838693516258886, 2.7057670801779286, 3.824...  [11.473287]   \n",
       "227406  [1.282895054262721, 2.6656692150197117, 3.8412...  [11.229113]   \n",
       "\n",
       "                                                    r_1_6  \\\n",
       "1436                               [1.8672247, 2.0442743]   \n",
       "1437                               [1.9485985, 2.1868443]   \n",
       "1438                               [2.1781127, 2.0175276]   \n",
       "1439                               [1.8502076, 2.0625641]   \n",
       "1440                               [1.9735662, 2.1859756]   \n",
       "...                                                   ...   \n",
       "227402  [1.1672131, 9.8776045, 2.5290387, 8.671373, 3....   \n",
       "227403  [1.3829259, 10.245954, 2.756325, 9.02766, 4.14...   \n",
       "227404  [1.0834332, 10.105187, 2.2868967, 8.899388, 3....   \n",
       "227405  [1.2266014, 10.292377, 2.4954176, 9.048904, 3....   \n",
       "227406  [1.2156079, 10.086246, 2.461794, 8.839634, 3.8...   \n",
       "\n",
       "                                               r_1_7 r_1_8  ...  \\\n",
       "1436    [1.1560113, 2.8878524, 3.2605093, 0.9800411]    []  ...   \n",
       "1437      [0.995524, 3.0686364, 3.366869, 1.0243025]    []  ...   \n",
       "1438    [1.1507438, 3.4112425, 3.0321705, 1.0974189]    []  ...   \n",
       "1439    [1.0958004, 2.8944232, 3.2666411, 0.9859729]    []  ...   \n",
       "1440    [1.0546333, 3.1071465, 3.4139273, 1.0276339]    []  ...   \n",
       "...                                              ...   ...  ...   \n",
       "227402                                            []    []  ...   \n",
       "227403                                            []    []  ...   \n",
       "227404                                            []    []  ...   \n",
       "227405                                            []    []  ...   \n",
       "227406                                            []    []  ...   \n",
       "\n",
       "       N_within_r_1_1 N_within_r_1_6 N_within_r_1_7 N_within_r_1_8  \\\n",
       "1436                0              0              2              0   \n",
       "1437                0              0              2              0   \n",
       "1438                0              0              2              0   \n",
       "1439                0              0              2              0   \n",
       "1440                0              0              2              0   \n",
       "...               ...            ...            ...            ...   \n",
       "227402              0              2              0              0   \n",
       "227403              0              2              0              0   \n",
       "227404              0              2              0              0   \n",
       "227405              0              2              0              0   \n",
       "227406              0              2              0              0   \n",
       "\n",
       "       N_within_r_6_6 N_within_r_6_7  N_within_r_6_8  N_within_r_7_7  \\\n",
       "1436                0              2               0               0   \n",
       "1437                0              2               0               0   \n",
       "1438                0              2               0               0   \n",
       "1439                0              2               0               0   \n",
       "1440                0              2               0               0   \n",
       "...               ...            ...             ...             ...   \n",
       "227402              7              0               0               0   \n",
       "227403              7              0               0               0   \n",
       "227404              7              0               0               0   \n",
       "227405              7              0               0               0   \n",
       "227406              7              0               0               0   \n",
       "\n",
       "        N_within_r_7_8  N_within_r_8_8  \n",
       "1436                 0               0  \n",
       "1437                 0               0  \n",
       "1438                 0               0  \n",
       "1439                 0               0  \n",
       "1440                 0               0  \n",
       "...                ...             ...  \n",
       "227402               0               0  \n",
       "227403               0               0  \n",
       "227404               0               0  \n",
       "227405               0               0  \n",
       "227406               0               0  \n",
       "\n",
       "[17337 rows x 50 columns]"
      ]
     },
     "execution_count": 21,
     "metadata": {},
     "output_type": "execute_result"
    }
   ],
   "source": [
    "df.query(\"N_1 == 2 and N_6 >= 1\")"
   ]
  },
  {
   "cell_type": "code",
   "execution_count": null,
   "metadata": {},
   "outputs": [],
   "source": []
  }
 ],
 "metadata": {
  "kernelspec": {
   "display_name": "misc",
   "language": "python",
   "name": "python3"
  },
  "language_info": {
   "codemirror_mode": {
    "name": "ipython",
    "version": 3
   },
   "file_extension": ".py",
   "mimetype": "text/x-python",
   "name": "python",
   "nbconvert_exporter": "python",
   "pygments_lexer": "ipython3",
   "version": "3.10.6"
  },
  "orig_nbformat": 4,
  "vscode": {
   "interpreter": {
    "hash": "57c1c596e90b645c401d0a600acd6e845d4d06bcf36eaa8b4a27f146eb08ceb4"
   }
  }
 },
 "nbformat": 4,
 "nbformat_minor": 2
}
